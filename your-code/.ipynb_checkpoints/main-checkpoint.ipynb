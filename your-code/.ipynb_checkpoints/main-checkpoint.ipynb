{
 "cells": [
  {
   "cell_type": "markdown",
   "metadata": {
    "id": "NpLDODnG9BxJ"
   },
   "source": [
    "# Confidence Intervals"
   ]
  },
  {
   "cell_type": "code",
   "execution_count": 1,
   "metadata": {
    "id": "kNdgISnp9BxM"
   },
   "outputs": [],
   "source": [
    "import pandas as pd\n",
    "import numpy as np\n",
    "import scipy.stats as st\n",
    "from statistics import mean"
   ]
  },
  {
   "cell_type": "markdown",
   "metadata": {
    "id": "ETwuC_pc9BxO"
   },
   "source": [
    "## Challenge 1\n",
    "We want to estimate the average size of the men of a country with a confidence level of 80%. Assuming that the standard deviation of the sizes in the population is 4, get the confidence interval with a sample of men selected randomly, whose heights are:\n",
    "\n",
    "````\n",
    "heights = [167, 167, 168, 168, 168, 169, 171, 172, 173, 175, 175, 175, 177, 182, 195]\n",
    "````\n",
    "\n",
    "**Hint**: function `stats.norm.interval` from `scipy` can help you get through this exercise. "
   ]
  },
  {
   "cell_type": "code",
   "execution_count": 2,
   "metadata": {
    "colab": {
     "base_uri": "https://localhost:8080/"
    },
    "id": "Wq7TCn5X9BxP",
    "outputId": "74d2d3a9-e989-409b-bf8c-4450622f567e"
   },
   "outputs": [
    {
     "data": {
      "text/plain": [
       "(172.14308590115726, 174.79024743217607)"
      ]
     },
     "execution_count": 2,
     "metadata": {},
     "output_type": "execute_result"
    }
   ],
   "source": [
    "# To create our interval at 80% confidence we need\n",
    "# 1. The mean of the sample\n",
    "# 2. The number of observations\n",
    "# 3. The std of the original distribution (4)\n",
    "heights = [167, 167, 168, 168, 168, 169, 171, 172, 173, 175, 175, 175, 177, 182, 195]\n",
    "mean = np.mean(heights)\n",
    "std = 4\n",
    "n = len(heights)\n",
    "\n",
    "st.norm.interval(0.80,loc=mean,scale=std/np.sqrt(len(heights)))\n"
   ]
  },
  {
   "cell_type": "code",
   "execution_count": null,
   "metadata": {
    "id": "lyXdlV-CUils"
   },
   "outputs": [],
   "source": [
    "# At an 80% confidence level, our range would go from 172.14 to 174.79\n"
   ]
  },
  {
   "cell_type": "markdown",
   "metadata": {
    "id": "2okdXlwz9BxQ"
   },
   "source": [
    "## Challenge 2 \n",
    "In a sample of 105 shops selected randomly from an area, we note that 27 of them have had losses in this month. Get an interval for the proportion of businesses in the area with losses to a confidence level of 80% and a confidence level of 90%.\n",
    "\n",
    "**Hint**: function `stats.norm.interval` from `scipy` can help you get through this exercise. "
   ]
  },
  {
   "cell_type": "code",
   "execution_count": 3,
   "metadata": {
    "colab": {
     "base_uri": "https://localhost:8080/"
    },
    "id": "UPWeyHI69BxR",
    "outputId": "87fb3dfd-74de-4997-8ca0-fa479f27b826"
   },
   "outputs": [
    {
     "data": {
      "text/plain": [
       "(0.20248138545542083, 0.3118043288302934)"
      ]
     },
     "execution_count": 3,
     "metadata": {},
     "output_type": "execute_result"
    }
   ],
   "source": [
    "# To create our interval at 80% and 90% confidence we need\n",
    "# 1. The mean of the sample\n",
    "# 2. The number of observations\n",
    "# 3. The std of the original distribution \n",
    "\n",
    "n = 105\n",
    "shops_losses = 27\n",
    "losses_ratio = 27/105\n",
    "mean = np.mean(heights)\n",
    "std = 4\n",
    "\n",
    "\n",
    "st.norm.interval(0.80, loc=losses_ratio, scale=np.sqrt((losses_ratio*(1-losses_ratio))/n))\n",
    "\n"
   ]
  },
  {
   "cell_type": "code",
   "execution_count": 4,
   "metadata": {
    "colab": {
     "base_uri": "https://localhost:8080/"
    },
    "id": "_Ksmgyk0cpvv",
    "outputId": "db7a3387-5ee6-46b2-c7c2-f1d4dec55d0d"
   },
   "outputs": [
    {
     "data": {
      "text/plain": [
       "(0.1869856177645281, 0.3273000965211861)"
      ]
     },
     "execution_count": 4,
     "metadata": {},
     "output_type": "execute_result"
    }
   ],
   "source": [
    "st.norm.interval(0.90, loc=losses_ratio, scale=np.sqrt((losses_ratio*(1-losses_ratio))/n))"
   ]
  },
  {
   "cell_type": "markdown",
   "metadata": {
    "id": "xcePedGE9BxR"
   },
   "source": [
    "## Bonus Challenge\n",
    "The error level or sampling error for the first challenge is given by the following expression:\n",
    "$$Error = z_{\\frac{\\alpha}{2}}\\frac{\\sigma}{\\sqrt n}$$\n",
    "Where z represents the value for N(0,1)\n",
    "\n",
    "\n",
    "Suppose that with the previous data of challenge 1, and with a confidence level of\n",
    "99% (that is, almost certainly) we want to estimate the average population size, so that the error level committed is not greater than half a centimeter.\n",
    "\n",
    "#### 1.- Determine what size the selected sample of men should be."
   ]
  },
  {
   "cell_type": "code",
   "execution_count": 5,
   "metadata": {
    "colab": {
     "base_uri": "https://localhost:8080/"
    },
    "id": "8jarjC6b9BxS",
    "outputId": "3a6b5a41-68bd-4833-87cd-f883bcf8b1c7"
   },
   "outputs": [
    {
     "name": "stdout",
     "output_type": "stream",
     "text": [
      "425\n"
     ]
    }
   ],
   "source": [
    "z = 2.576\n",
    "sigma = 4\n",
    "sampling_error = 0.50\n",
    "\n",
    "n = ((z**2)*sigma*sigma)/(0.50)**2\n",
    "print(round(n))"
   ]
  },
  {
   "cell_type": "code",
   "execution_count": null,
   "metadata": {
    "id": "IR29QUR493Tl"
   },
   "outputs": [],
   "source": [
    "#not so sure this is correct as I used the error value in cm instead of a percentage "
   ]
  },
  {
   "cell_type": "markdown",
   "metadata": {
    "id": "1byR1kUA9BxS"
   },
   "source": [
    "#### 2.- For the second challenge, we have the following error:\n",
    "$$ Error = z_{\\frac{\\alpha}{2}}\\sqrt{\\frac{p\\times q}{n}} $$\n",
    "#### Determine the sample size required to not exceed an error of 1% with a confidence of 80%."
   ]
  },
  {
   "cell_type": "code",
   "execution_count": 6,
   "metadata": {
    "colab": {
     "base_uri": "https://localhost:8080/"
    },
    "id": "A4g5n7B59BxT",
    "outputId": "f05202f1-0c69-4b82-f48b-8e614069d097"
   },
   "outputs": [
    {
     "name": "stdout",
     "output_type": "stream",
     "text": [
      "4109\n"
     ]
    }
   ],
   "source": [
    "z = 1.282 #Z value for confidence level of 80%\n",
    "sigma = 4\n",
    "sampling_error = 0.01\n",
    "p = 0.5 #since we don't know the exact P value, we use 0.5 for both P and Q\n",
    "q = 0.5\n",
    "\n",
    "n = ((z**2)*p*q)/(sampling_error)**2\n",
    "print(round(n))"
   ]
  },
  {
   "cell_type": "markdown",
   "metadata": {
    "id": "oqK7Pcol9BxU"
   },
   "source": [
    "## Bonus Challenge\n",
    "\n",
    "Let's consider the following problem:\n",
    "\n",
    "Build a confidence interval of 94% for the real difference between the durations of two brands of spotlights, if a sample of 40 spotlights taken randomly from the first mark gave an average duration of 418 hours, and a sample of 50 bulbs of another brand gave a duration average of 402 hours. The standard deviations of the two\n",
    "populations are 26 hours and 22 hours, respectively.\n",
    "\n",
    "Sometimes, we will be interested in the difference of two different groups of random variables. We can also build a confidence interval for that! We have some different cases regarding the variance but for this specific case (the variance are different and known), we have that:\n",
    "\n",
    "$$\\overline{X} - \\overline{Y}  \\sim N(\\mu_{X} - \\mu_{Y} , \\sqrt{\\frac{\\sigma_{X}^2}{n_X}+\\frac{\\sigma_{Y}^2}{n_Y}})$$\n",
    "\n",
    "Solve the problem with this information."
   ]
  },
  {
   "cell_type": "code",
   "execution_count": null,
   "metadata": {
    "id": "2GeE0kg19BxV"
   },
   "outputs": [],
   "source": [
    "# your code here"
   ]
  }
 ],
 "metadata": {
  "colab": {
   "provenance": []
  },
  "kernelspec": {
   "display_name": "Python 3 (ipykernel)",
   "language": "python",
   "name": "python3"
  },
  "language_info": {
   "codemirror_mode": {
    "name": "ipython",
    "version": 3
   },
   "file_extension": ".py",
   "mimetype": "text/x-python",
   "name": "python",
   "nbconvert_exporter": "python",
   "pygments_lexer": "ipython3",
   "version": "3.9.12"
  }
 },
 "nbformat": 4,
 "nbformat_minor": 1
}
